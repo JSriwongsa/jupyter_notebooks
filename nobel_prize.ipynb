{
 "cells": [
  {
   "cell_type": "code",
   "execution_count": 7,
   "metadata": {},
   "outputs": [
    {
     "name": "stdout",
     "output_type": "stream",
     "text": [
      "     awardYear category birth_continent\n",
      "1         1975  Physics          Europe\n",
      "4         1979  Physics            Asia\n",
      "8         2011  Physics   North America\n",
      "20        1907  Physics          Europe\n",
      "23        1921  Physics          Europe\n",
      "..         ...      ...             ...\n",
      "932       1989  Physics          Europe\n",
      "933       1945  Physics          Europe\n",
      "938       2008  Physics            Asia\n",
      "942       2000  Physics          Europe\n",
      "945       1972  Physics   North America\n",
      "\n",
      "[213 rows x 3 columns]\n"
     ]
    }
   ],
   "source": [
    "import pandas as pd\n",
    "import matplotlib.pyplot as plt\n",
    "\n",
    "#ref data: https://www.kaggle.com/datasets/imdevskp/nobel-prize\n",
    "\n",
    "data = pd.read_csv('./data/nobel_prize.csv')\n",
    "new_data = data[['awardYear', 'category', 'birth_continent']]\n",
    "category = 'Physics'\n",
    "new_data_category = new_data[new_data['category'] == 'Physics']\n",
    "print(new_data_category)\n"
   ]
  }
 ],
 "metadata": {
  "kernelspec": {
   "display_name": "Python 3",
   "language": "python",
   "name": "python3"
  },
  "language_info": {
   "codemirror_mode": {
    "name": "ipython",
    "version": 3
   },
   "file_extension": ".py",
   "mimetype": "text/x-python",
   "name": "python",
   "nbconvert_exporter": "python",
   "pygments_lexer": "ipython3",
   "version": "3.8.10"
  },
  "orig_nbformat": 4,
  "vscode": {
   "interpreter": {
    "hash": "916dbcbb3f70747c44a77c7bcd40155683ae19c65e1c03b4aa3499c5328201f1"
   }
  }
 },
 "nbformat": 4,
 "nbformat_minor": 2
}
